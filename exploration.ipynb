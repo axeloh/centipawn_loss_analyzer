{
 "cells": [
  {
   "cell_type": "code",
   "execution_count": 16,
   "metadata": {},
   "outputs": [],
   "source": [
    "import chess\n",
    "import chess.engine\n",
    "import chess.pgn\n",
    "from datetime import datetime\n",
    "import pandas as pd\n",
    "import math\n",
    "from tqdm import tqdm\n",
    "from typing import Union, List\n",
    "import zipfile\n",
    "import os\n",
    "import numpy as np\n",
    "import json\n",
    "import time"
   ]
  },
  {
   "cell_type": "code",
   "execution_count": 2,
   "metadata": {},
   "outputs": [],
   "source": [
    "def evaluate_position(board: chess.Board , engine: chess.engine.SimpleEngine, limit: chess.engine.Limit):\n",
    "   info = engine.analyse(board, limit)\n",
    "   return info['score'].white().score(mate_score=1000)\n",
    "\n",
    "def parse_elo_rating(rating_str: str) -> Union[int, None]:\n",
    "    try: \n",
    "        rating = int(rating_str)\n",
    "    except ValueError:\n",
    "        return None\n",
    "    return rating\n",
    "\n",
    "def parse_date(date_str: str) -> Union[datetime, None]:\n",
    "    try:\n",
    "        date = datetime.strptime(date_str, '%Y.%m.%d')\n",
    "    except:\n",
    "        try:\n",
    "            date = datetime.strptime(date_str, '%Y.??.??')\n",
    "        except:\n",
    "            return None\n",
    "\n",
    "    return date \n",
    "\n",
    "def read_games(pgn_path: str) -> List[chess.pgn.Game]:\n",
    "    games = []\n",
    "    with open(pgn_path) as file:\n",
    "        while True:\n",
    "            game = chess.pgn.read_game(file)\n",
    "            if game is None:\n",
    "                break  # end of games in file\n",
    "            games.append(game)\n",
    "    return games\n",
    "\n",
    "def save_output(path: str, output: List[dict]):\n",
    "    with open(path, 'w') as fout:\n",
    "        json.dump(output, fout)"
   ]
  },
  {
   "cell_type": "code",
   "execution_count": 3,
   "metadata": {},
   "outputs": [],
   "source": [
    "stockfish_path = '/usr/local/Cellar/stockfish/15/bin/stockfish'\n",
    "engine = chess.engine.SimpleEngine.popen_uci(stockfish_path)\n",
    "movetimesec = 999\n",
    "depth = 10\n",
    "limit = chess.engine.Limit(time=movetimesec, depth=depth)"
   ]
  },
  {
   "cell_type": "code",
   "execution_count": 4,
   "metadata": {},
   "outputs": [
    {
     "name": "stdout",
     "output_type": "stream",
     "text": [
      "12\n"
     ]
    }
   ],
   "source": [
    "# import multiprocessing as mp\n",
    "import multiprocess as mp\n",
    "print(mp.cpu_count())"
   ]
  },
  {
   "cell_type": "code",
   "execution_count": 5,
   "metadata": {},
   "outputs": [],
   "source": [
    "# for player_png_file in os.listdir(data_path):\n",
    "  #   player_name = player_png_file.split('.')[0].lower()\n",
    "    # if player_name not in include_players:\n",
    "       #  continue"
   ]
  },
  {
   "cell_type": "code",
   "execution_count": 6,
   "metadata": {},
   "outputs": [],
   "source": [
    "include_players = ['Anand', 'Aronian', 'Carlsen', 'Caruana', 'Duda']"
   ]
  },
  {
   "cell_type": "code",
   "execution_count": 7,
   "metadata": {},
   "outputs": [],
   "source": [
    "def process_player_games(player_name: str):\n",
    "    data_path = 'data' \n",
    "    output_path = 'processed_data'\n",
    "    output = []\n",
    "    try:\n",
    "        pgn_path = f'{data_path}/{player_name}.pgn'\n",
    "        games = read_games(pgn_path)\n",
    "    except:\n",
    "        print(f'Couldnt read games of player: {player_name}.')\n",
    "        return \n",
    "\n",
    "    for i, game in enumerate(games, start=1):\n",
    "        if i > 10:\n",
    "            break\n",
    "        try: \n",
    "            print(f'[{player_name}] Game: {i}/{len(games)}')\n",
    "            event = game.headers['Event']\n",
    "            date = game.headers['Date']\n",
    "            white_player = game.headers['White']\n",
    "            black_player = game.headers['Black']\n",
    "            white_elo = parse_elo_rating(game.headers['WhiteElo'])\n",
    "            black_elo = parse_elo_rating(game.headers['BlackElo'])\n",
    "            result = game.headers['Result']\n",
    "            white_won = result == '1-0'\n",
    "            draw = result == '1/2-1/2'\n",
    "            black_won = result == '0-1'\n",
    "\n",
    "            if white_elo is None and black_elo is None:\n",
    "                print('Missing ELO for both players.')\n",
    "                continue\n",
    "\n",
    "            board = game.board()\n",
    "            init_evaluation = evaluate_position(board, engine, limit)\n",
    "            evaluations = [init_evaluation]\n",
    "            moves = game.mainline_moves()\n",
    "            for move in moves:\n",
    "                board.push(move)\n",
    "                position_evaluation = evaluate_position(board, engine, limit)\n",
    "                evaluations.append(position_evaluation)\n",
    "                info = engine.analyse(board, limit)\n",
    "\n",
    "            evaluations = np.array(evaluations)\n",
    "            evaluations[evaluations < -1000] = -1000\n",
    "            evaluations[evaluations > 1000] = 1000\n",
    "\n",
    "            white_centipawn_losses = -np.diff(evaluations)[::2]\n",
    "            black_centipawn_losses  = np.diff(evaluations)[1::2]\n",
    "            white_centipawn_losses[white_centipawn_losses < 0] = 0\n",
    "            black_centipawn_losses[black_centipawn_losses < 0] = 0\n",
    "\n",
    "            white_avg_cp_loss = np.mean(white_centipawn_losses)\n",
    "            black_avg_cp_loss = np.mean(black_centipawn_losses)\n",
    "            \n",
    "            # print(f'Avg white cp loss: {white_avg_cp_loss:.2f}')\n",
    "            # print(f'Avg black cp loss: {black_avg_cp_loss:.2f}')\n",
    "\n",
    "            game_output = {\n",
    "                'event': event,\n",
    "                'date': date,\n",
    "                'white_player': white_player,\n",
    "                'black_player': black_player,\n",
    "                'white_elo': white_elo,\n",
    "                'black_elo': black_elo,\n",
    "                'result': result,\n",
    "                'avg_white_cp_loss': white_avg_cp_loss,\n",
    "                'avg_black_cp_loss': black_avg_cp_loss,\n",
    "                'white_cp_losses': white_centipawn_losses,\n",
    "                'black_cp_losses': black_centipawn_losses,\n",
    "            }\n",
    "            output.append(game_output)\n",
    "        except:\n",
    "            print(f'Couldnt process game: {i} of player: {player_name}.')\n",
    "\n",
    "    np.save(f'{output_path}/{player_name}.npy', output)\n",
    "    # save_output(f'{output_path}/{player_name}.json', output)\n",
    "\n"
   ]
  },
  {
   "cell_type": "code",
   "execution_count": null,
   "metadata": {},
   "outputs": [],
   "source": []
  }
 ],
 "metadata": {
  "kernelspec": {
   "display_name": "Python 3.8.5 ('venv': venv)",
   "language": "python",
   "name": "python3"
  },
  "language_info": {
   "codemirror_mode": {
    "name": "ipython",
    "version": 3
   },
   "file_extension": ".py",
   "mimetype": "text/x-python",
   "name": "python",
   "nbconvert_exporter": "python",
   "pygments_lexer": "ipython3",
   "version": "3.8.5"
  },
  "orig_nbformat": 4,
  "vscode": {
   "interpreter": {
    "hash": "02300bea2c148f2fa88322b31059ccfed4c625ae428007468fa2669502bc0f06"
   }
  }
 },
 "nbformat": 4,
 "nbformat_minor": 2
}
